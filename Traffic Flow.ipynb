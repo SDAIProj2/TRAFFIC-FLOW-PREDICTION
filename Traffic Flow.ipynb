{
 "cells": [
  {
   "cell_type": "code",
   "execution_count": 1,
   "id": "80bd5b5d",
   "metadata": {},
   "outputs": [],
   "source": [
    "import pandas as pd\n",
    "from tensorflow.keras.models import Model\n",
    "from tensorflow.keras import datasets, layers, models\n",
    "import tensorflow as tf\n",
    "import numpy as np\n",
    "from sklearn.preprocessing import StandardScaler, MinMaxScaler\n",
    "import matplotlib.pyplot as plt"
   ]
  },
  {
   "cell_type": "code",
   "execution_count": 2,
   "id": "8d2088c9",
   "metadata": {},
   "outputs": [],
   "source": [
    "train_data = pd.read_csv(\"train.csv\").fillna(0)\n",
    "train_data =train_data.sample(frac=1)"
   ]
  },
  {
   "cell_type": "code",
   "execution_count": 3,
   "id": "65250d56",
   "metadata": {},
   "outputs": [],
   "source": [
    "test_data = pd.read_csv(\"test.csv\").fillna(0)\n",
    "test_data =test_data.sample(frac=1)"
   ]
  },
  {
   "cell_type": "code",
   "execution_count": 4,
   "id": "ce06c6d4",
   "metadata": {},
   "outputs": [],
   "source": [
    "merged_data = pd.concat(\n",
    "    (train_data, test_data),\n",
    "    axis=0,\n",
    "    join=\"outer\")"
   ]
  },
  {
   "cell_type": "code",
   "execution_count": 5,
   "id": "fa7586e0",
   "metadata": {},
   "outputs": [
    {
     "data": {
      "text/html": [
       "<div>\n",
       "<style scoped>\n",
       "    .dataframe tbody tr th:only-of-type {\n",
       "        vertical-align: middle;\n",
       "    }\n",
       "\n",
       "    .dataframe tbody tr th {\n",
       "        vertical-align: top;\n",
       "    }\n",
       "\n",
       "    .dataframe thead th {\n",
       "        text-align: right;\n",
       "    }\n",
       "</style>\n",
       "<table border=\"1\" class=\"dataframe\">\n",
       "  <thead>\n",
       "    <tr style=\"text-align: right;\">\n",
       "      <th></th>\n",
       "      <th>5 Minutes</th>\n",
       "      <th>Lane 1 Flow (Veh/5 Minutes)</th>\n",
       "      <th># Lane Points</th>\n",
       "      <th>% Observed</th>\n",
       "    </tr>\n",
       "  </thead>\n",
       "  <tbody>\n",
       "    <tr>\n",
       "      <th>1480</th>\n",
       "      <td>11/01/2016 3:20</td>\n",
       "      <td>3</td>\n",
       "      <td>1</td>\n",
       "      <td>100</td>\n",
       "    </tr>\n",
       "    <tr>\n",
       "      <th>5908</th>\n",
       "      <td>18/02/2016 12:20</td>\n",
       "      <td>90</td>\n",
       "      <td>1</td>\n",
       "      <td>100</td>\n",
       "    </tr>\n",
       "    <tr>\n",
       "      <th>2714</th>\n",
       "      <td>15/01/2016 10:10</td>\n",
       "      <td>105</td>\n",
       "      <td>1</td>\n",
       "      <td>100</td>\n",
       "    </tr>\n",
       "    <tr>\n",
       "      <th>4013</th>\n",
       "      <td>02/02/2016 22:25</td>\n",
       "      <td>21</td>\n",
       "      <td>1</td>\n",
       "      <td>100</td>\n",
       "    </tr>\n",
       "    <tr>\n",
       "      <th>7707</th>\n",
       "      <td>29/02/2016 18:15</td>\n",
       "      <td>91</td>\n",
       "      <td>1</td>\n",
       "      <td>100</td>\n",
       "    </tr>\n",
       "  </tbody>\n",
       "</table>\n",
       "</div>"
      ],
      "text/plain": [
       "             5 Minutes  Lane 1 Flow (Veh/5 Minutes)  # Lane Points  % Observed\n",
       "1480   11/01/2016 3:20                            3              1         100\n",
       "5908  18/02/2016 12:20                           90              1         100\n",
       "2714  15/01/2016 10:10                          105              1         100\n",
       "4013  02/02/2016 22:25                           21              1         100\n",
       "7707  29/02/2016 18:15                           91              1         100"
      ]
     },
     "execution_count": 5,
     "metadata": {},
     "output_type": "execute_result"
    }
   ],
   "source": [
    "merged_data.head()"
   ]
  },
  {
   "cell_type": "code",
   "execution_count": 6,
   "id": "351cac33",
   "metadata": {},
   "outputs": [],
   "source": [
    "train_data = merged_data.sample(frac=0.8,random_state=20)\n",
    "test_data = merged_data.drop(train_data.index)"
   ]
  },
  {
   "cell_type": "code",
   "execution_count": 7,
   "id": "14a0a758",
   "metadata": {},
   "outputs": [],
   "source": [
    "attribute = 'Lane 1 Flow (Veh/5 Minutes)'\n",
    "scaler = MinMaxScaler(feature_range=(0, 1)).fit(train_data[attribute].values.reshape(-1, 1))\n",
    "train_transform = scaler.transform(train_data[attribute].values.reshape(-1, 1)).reshape(1, -1)[0]\n",
    "test_transform = scaler.transform(test_data[attribute].values.reshape(-1, 1)).reshape(1, -1)[0]\n",
    "train, test = [], []\n",
    "delay = 256\n",
    "for i in range(delay, len(train_transform)):\n",
    "    train.append(train_transform[i - delay: i + 1])\n",
    "for i in range(delay, len(test_transform)):\n",
    "    test.append(test_transform[i - delay: i + 1])\n",
    "train = np.array(train)\n",
    "test = np.array(test)\n",
    "X_train = train[:, :-1]\n",
    "y_train = train[:, -1]\n",
    "X_test = test[:, :-1]\n",
    "y_test = test[:, -1]"
   ]
  },
  {
   "cell_type": "code",
   "execution_count": 8,
   "id": "098cb2d6",
   "metadata": {},
   "outputs": [
    {
     "data": {
      "text/plain": [
       "array([0.02538071, 0.46700508, 0.52791878, ..., 0.54314721, 0.56345178,\n",
       "       0.04060914])"
      ]
     },
     "execution_count": 8,
     "metadata": {},
     "output_type": "execute_result"
    }
   ],
   "source": [
    "y_train"
   ]
  },
  {
   "cell_type": "code",
   "execution_count": 9,
   "id": "8b8a8962",
   "metadata": {},
   "outputs": [],
   "source": [
    "X_test = X_test.reshape((X_test.shape[0], X_test.shape[1], -1))"
   ]
  },
  {
   "cell_type": "code",
   "execution_count": 10,
   "id": "b8bbe868",
   "metadata": {},
   "outputs": [],
   "source": [
    "X_train = X_train.reshape((X_train.shape[0], X_train.shape[1], -1))"
   ]
  },
  {
   "cell_type": "code",
   "execution_count": 11,
   "id": "58c6eef3",
   "metadata": {},
   "outputs": [
    {
     "data": {
      "text/plain": [
       "(9421, 256, 1)"
      ]
     },
     "execution_count": 11,
     "metadata": {},
     "output_type": "execute_result"
    }
   ],
   "source": [
    "X_train.shape"
   ]
  },
  {
   "cell_type": "code",
   "execution_count": 12,
   "id": "2ade99c9",
   "metadata": {},
   "outputs": [
    {
     "data": {
      "text/plain": [
       "(757, 256, 1)"
      ]
     },
     "execution_count": 12,
     "metadata": {},
     "output_type": "execute_result"
    }
   ],
   "source": [
    "X_test.shape"
   ]
  },
  {
   "cell_type": "code",
   "execution_count": 13,
   "id": "c4e16fc9",
   "metadata": {},
   "outputs": [],
   "source": [
    "X_train = tf.transpose(X_train, [0, 2, 1])\n",
    "X_test = tf.transpose(X_test, [0, 2, 1])"
   ]
  },
  {
   "cell_type": "code",
   "execution_count": 41,
   "id": "dc853370",
   "metadata": {},
   "outputs": [
    {
     "name": "stdout",
     "output_type": "stream",
     "text": [
      "Model: \"sequential_5\"\n",
      "_________________________________________________________________\n",
      "Layer (type)                 Output Shape              Param #   \n",
      "=================================================================\n",
      "conv1d_8 (Conv1D)            (None, 1, 256)            65792     \n",
      "_________________________________________________________________\n",
      "leaky_re_lu_2 (LeakyReLU)    (None, 1, 256)            0         \n",
      "_________________________________________________________________\n",
      "conv1d_9 (Conv1D)            (None, 1, 64)             16448     \n",
      "_________________________________________________________________\n",
      "conv1d_10 (Conv1D)           (None, 1, 64)             4160      \n",
      "_________________________________________________________________\n",
      "conv1d_11 (Conv1D)           (None, 1, 64)             4160      \n",
      "_________________________________________________________________\n",
      "dropout_2 (Dropout)          (None, 1, 64)             0         \n",
      "_________________________________________________________________\n",
      "max_pooling1d_2 (MaxPooling1 (None, 1, 64)             0         \n",
      "_________________________________________________________________\n",
      "conv1d_12 (Conv1D)           (None, 1, 64)             4160      \n",
      "=================================================================\n",
      "Total params: 94,720\n",
      "Trainable params: 94,720\n",
      "Non-trainable params: 0\n",
      "_________________________________________________________________\n"
     ]
    }
   ],
   "source": [
    "model = models.Sequential()\n",
    "model = models.Sequential()\n",
    "model.add(layers.Conv1D(256, 1, activation='relu', input_shape=(1, 256)))\n",
    "model.add(tf.keras.layers.LeakyReLU())\n",
    "model.add(layers.Conv1D(64, 1, activation='relu',  input_shape=(256, 64)))\n",
    "model.add(layers.Conv1D(64, 1, activation='relu',  input_shape=(128, 16)))\n",
    "model.add(layers.Conv1D(64, 1, activation='relu',  input_shape=(64, 8)))\n",
    "model.add(layers.Dropout(.2, input_shape=(4,8)))\n",
    "model.add(layers.MaxPooling1D(1))\n",
    "model.add(layers.Conv1D(64, 1, activation='relu'))\n",
    "model.summary()"
   ]
  },
  {
   "cell_type": "code",
   "execution_count": 44,
   "id": "fcd331ea",
   "metadata": {},
   "outputs": [],
   "source": [
    "model.compile(optimizer='Adadelta',\n",
    "              loss=tf.keras.losses.SparseCategoricalCrossentropy(from_logits=True))"
   ]
  },
  {
   "cell_type": "code",
   "execution_count": 45,
   "id": "469652ac",
   "metadata": {},
   "outputs": [
    {
     "name": "stdout",
     "output_type": "stream",
     "text": [
      "Epoch 1/100\n",
      "WARNING:tensorflow:AutoGraph could not transform <function Model.make_train_function.<locals>.train_function at 0x15fe218b0> and will run it as-is.\n",
      "Please report this to the TensorFlow team. When filing the bug, set the verbosity to 10 (on Linux, `export AUTOGRAPH_VERBOSITY=10`) and attach the full output.\n",
      "Cause: unsupported operand type(s) for -: 'NoneType' and 'int'\n",
      "To silence this warning, decorate the function with @tf.autograph.experimental.do_not_convert\n",
      "WARNING: AutoGraph could not transform <function Model.make_train_function.<locals>.train_function at 0x15fe218b0> and will run it as-is.\n",
      "Please report this to the TensorFlow team. When filing the bug, set the verbosity to 10 (on Linux, `export AUTOGRAPH_VERBOSITY=10`) and attach the full output.\n",
      "Cause: unsupported operand type(s) for -: 'NoneType' and 'int'\n",
      "To silence this warning, decorate the function with @tf.autograph.experimental.do_not_convert\n",
      "293/295 [============================>.] - ETA: 0s - loss: 0.0015   WARNING:tensorflow:AutoGraph could not transform <function Model.make_test_function.<locals>.test_function at 0x176f34ca0> and will run it as-is.\n",
      "Please report this to the TensorFlow team. When filing the bug, set the verbosity to 10 (on Linux, `export AUTOGRAPH_VERBOSITY=10`) and attach the full output.\n",
      "Cause: unsupported operand type(s) for -: 'NoneType' and 'int'\n",
      "To silence this warning, decorate the function with @tf.autograph.experimental.do_not_convert\n",
      "WARNING: AutoGraph could not transform <function Model.make_test_function.<locals>.test_function at 0x176f34ca0> and will run it as-is.\n",
      "Please report this to the TensorFlow team. When filing the bug, set the verbosity to 10 (on Linux, `export AUTOGRAPH_VERBOSITY=10`) and attach the full output.\n",
      "Cause: unsupported operand type(s) for -: 'NoneType' and 'int'\n",
      "To silence this warning, decorate the function with @tf.autograph.experimental.do_not_convert\n",
      "295/295 [==============================] - 1s 1ms/step - loss: 0.0015 - val_loss: 1.7755e-06\n",
      "Epoch 2/100\n",
      "295/295 [==============================] - 0s 955us/step - loss: 0.0015 - val_loss: 1.7280e-06\n",
      "Epoch 3/100\n",
      "295/295 [==============================] - 0s 968us/step - loss: 3.6971e-04 - val_loss: 1.6685e-06\n",
      "Epoch 4/100\n",
      "295/295 [==============================] - 0s 950us/step - loss: 9.6802e-04 - val_loss: 1.6322e-06\n",
      "Epoch 5/100\n",
      "295/295 [==============================] - 0s 1ms/step - loss: 5.6048e-04 - val_loss: 1.5785e-06\n",
      "Epoch 6/100\n",
      "295/295 [==============================] - 0s 973us/step - loss: 0.0025 - val_loss: 1.5492e-06\n",
      "Epoch 7/100\n",
      "295/295 [==============================] - 0s 957us/step - loss: 8.0160e-04 - val_loss: 1.4984e-06\n",
      "Epoch 8/100\n",
      "295/295 [==============================] - 0s 1ms/step - loss: 0.0061 - val_loss: 1.4552e-06\n",
      "Epoch 9/100\n",
      "295/295 [==============================] - 0s 957us/step - loss: 6.3583e-04 - val_loss: 1.4130e-06\n",
      "Epoch 10/100\n",
      "295/295 [==============================] - 0s 956us/step - loss: 0.0015 - val_loss: 1.3886e-06\n",
      "Epoch 11/100\n",
      "295/295 [==============================] - 0s 962us/step - loss: 0.0018 - val_loss: 1.3489e-06\n",
      "Epoch 12/100\n",
      "295/295 [==============================] - 0s 946us/step - loss: 0.0025 - val_loss: 1.3162e-06\n",
      "Epoch 13/100\n",
      "295/295 [==============================] - 0s 956us/step - loss: 0.0015 - val_loss: 1.2804e-06\n",
      "Epoch 14/100\n",
      "295/295 [==============================] - 0s 953us/step - loss: 5.5275e-04 - val_loss: 1.2408e-06\n",
      "Epoch 15/100\n",
      "295/295 [==============================] - 0s 959us/step - loss: 4.7758e-04 - val_loss: 1.2080e-06\n",
      "Epoch 16/100\n",
      "295/295 [==============================] - 0s 958us/step - loss: 0.0021 - val_loss: 1.1822e-06\n",
      "Epoch 17/100\n",
      "295/295 [==============================] - 0s 969us/step - loss: 0.0016 - val_loss: 1.1478e-06\n",
      "Epoch 18/100\n",
      "295/295 [==============================] - 0s 1ms/step - loss: 7.3701e-04 - val_loss: 1.1163e-06\n",
      "Epoch 19/100\n",
      "295/295 [==============================] - 0s 1ms/step - loss: 1.6761e-04 - val_loss: 1.0853e-06\n",
      "Epoch 20/100\n",
      "295/295 [==============================] - 0s 970us/step - loss: 0.0045 - val_loss: 1.0669e-06\n",
      "Epoch 21/100\n",
      "295/295 [==============================] - 0s 1ms/step - loss: 0.0017 - val_loss: 1.0403e-06\n",
      "Epoch 22/100\n",
      "295/295 [==============================] - 0s 1ms/step - loss: 0.0011 - val_loss: 1.0209e-06\n",
      "Epoch 23/100\n",
      "295/295 [==============================] - 0s 1ms/step - loss: 5.5883e-04 - val_loss: 9.9399e-07\n",
      "Epoch 24/100\n",
      "295/295 [==============================] - 0s 995us/step - loss: 9.8843e-04 - val_loss: 9.7068e-07\n",
      "Epoch 25/100\n",
      "295/295 [==============================] - 0s 1ms/step - loss: 2.6419e-04 - val_loss: 9.4832e-07\n",
      "Epoch 26/100\n",
      "295/295 [==============================] - 0s 1ms/step - loss: 0.0010 - val_loss: 9.3367e-07\n",
      "Epoch 27/100\n",
      "295/295 [==============================] - 0s 1ms/step - loss: 0.0042 - val_loss: 9.0895e-07\n",
      "Epoch 28/100\n",
      "295/295 [==============================] - 0s 961us/step - loss: 0.0049 - val_loss: 8.8785e-07\n",
      "Epoch 29/100\n",
      "295/295 [==============================] - 0s 986us/step - loss: 0.0010 - val_loss: 8.7226e-07\n",
      "Epoch 30/100\n",
      "295/295 [==============================] - 0s 977us/step - loss: 0.0063 - val_loss: 8.5273e-07\n",
      "Epoch 31/100\n",
      "295/295 [==============================] - 0s 979us/step - loss: 3.3757e-04 - val_loss: 8.3352e-07\n",
      "Epoch 32/100\n",
      "295/295 [==============================] - 0s 995us/step - loss: 9.3406e-04 - val_loss: 8.1872e-07\n",
      "Epoch 33/100\n",
      "295/295 [==============================] - 0s 979us/step - loss: 0.0011 - val_loss: 7.9998e-07\n",
      "Epoch 34/100\n",
      "295/295 [==============================] - 0s 963us/step - loss: 0.0019 - val_loss: 7.8706e-07\n",
      "Epoch 35/100\n",
      "295/295 [==============================] - 0s 1ms/step - loss: 9.3323e-04 - val_loss: 7.7321e-07\n",
      "Epoch 36/100\n",
      "295/295 [==============================] - 0s 1ms/step - loss: 4.0113e-04 - val_loss: 7.5588e-07\n",
      "Epoch 37/100\n",
      "295/295 [==============================] - 0s 1ms/step - loss: 5.8759e-04 - val_loss: 7.4313e-07\n",
      "Epoch 38/100\n",
      "295/295 [==============================] - 0s 1ms/step - loss: 2.2120e-04 - val_loss: 7.2911e-07\n",
      "Epoch 39/100\n",
      "295/295 [==============================] - 0s 953us/step - loss: 0.0040 - val_loss: 7.1762e-07\n",
      "Epoch 40/100\n",
      "295/295 [==============================] - 0s 985us/step - loss: 0.0018 - val_loss: 7.0313e-07\n",
      "Epoch 41/100\n",
      "295/295 [==============================] - 0s 969us/step - loss: 8.3677e-04 - val_loss: 6.8596e-07\n",
      "Epoch 42/100\n",
      "295/295 [==============================] - 0s 953us/step - loss: 0.0028 - val_loss: 6.7289e-07\n",
      "Epoch 43/100\n",
      "295/295 [==============================] - 0s 1ms/step - loss: 9.8107e-04 - val_loss: 6.6045e-07\n",
      "Epoch 44/100\n",
      "295/295 [==============================] - 0s 1ms/step - loss: 0.0021 - val_loss: 6.5163e-07\n",
      "Epoch 45/100\n",
      "295/295 [==============================] - 0s 992us/step - loss: 0.0013 - val_loss: 6.3715e-07\n",
      "Epoch 46/100\n",
      "295/295 [==============================] - 0s 1ms/step - loss: 0.0020 - val_loss: 6.2455e-07\n",
      "Epoch 47/100\n",
      "295/295 [==============================] - 0s 998us/step - loss: 0.0035 - val_loss: 6.1573e-07\n",
      "Epoch 48/100\n",
      "295/295 [==============================] - 0s 997us/step - loss: 0.0015 - val_loss: 6.0423e-07\n",
      "Epoch 49/100\n",
      "295/295 [==============================] - 0s 985us/step - loss: 0.0057 - val_loss: 5.8864e-07\n",
      "Epoch 50/100\n",
      "295/295 [==============================] - 0s 1ms/step - loss: 2.8128e-04 - val_loss: 5.7510e-07\n",
      "Epoch 51/100\n",
      "295/295 [==============================] - 0s 1ms/step - loss: 2.2624e-04 - val_loss: 5.6439e-07\n",
      "Epoch 52/100\n",
      "295/295 [==============================] - 0s 1ms/step - loss: 4.1483e-04 - val_loss: 5.5605e-07\n",
      "Epoch 53/100\n",
      "295/295 [==============================] - 0s 995us/step - loss: 0.0025 - val_loss: 5.4628e-07\n",
      "Epoch 54/100\n",
      "295/295 [==============================] - 0s 992us/step - loss: 4.9155e-04 - val_loss: 5.3290e-07\n",
      "Epoch 55/100\n",
      "295/295 [==============================] - 0s 1ms/step - loss: 0.0021 - val_loss: 5.2660e-07\n",
      "Epoch 56/100\n",
      "295/295 [==============================] - 0s 1ms/step - loss: 8.4143e-04 - val_loss: 5.1369e-07\n",
      "Epoch 57/100\n",
      "295/295 [==============================] - 0s 1ms/step - loss: 8.0321e-04 - val_loss: 5.0660e-07\n",
      "Epoch 58/100\n",
      "295/295 [==============================] - 0s 982us/step - loss: 9.8947e-04 - val_loss: 4.9621e-07\n"
     ]
    },
    {
     "name": "stdout",
     "output_type": "stream",
     "text": [
      "Epoch 59/100\n",
      "295/295 [==============================] - 0s 941us/step - loss: 6.4715e-04 - val_loss: 4.8644e-07\n",
      "Epoch 60/100\n",
      "295/295 [==============================] - 0s 924us/step - loss: 0.0027 - val_loss: 4.7605e-07\n",
      "Epoch 61/100\n",
      "295/295 [==============================] - 0s 983us/step - loss: 0.0017 - val_loss: 4.6818e-07\n",
      "Epoch 62/100\n",
      "295/295 [==============================] - 0s 969us/step - loss: 0.0109 - val_loss: 4.6188e-07\n",
      "Epoch 63/100\n",
      "295/295 [==============================] - 0s 979us/step - loss: 0.0016 - val_loss: 4.5400e-07\n",
      "Epoch 64/100\n",
      "295/295 [==============================] - 0s 954us/step - loss: 0.0011 - val_loss: 4.4644e-07\n",
      "Epoch 65/100\n",
      "295/295 [==============================] - 0s 946us/step - loss: 1.6066e-04 - val_loss: 4.3589e-07\n",
      "Epoch 66/100\n",
      "295/295 [==============================] - 0s 935us/step - loss: 0.0036 - val_loss: 4.3007e-07\n",
      "Epoch 67/100\n",
      "295/295 [==============================] - 0s 954us/step - loss: 0.0069 - val_loss: 4.2093e-07\n",
      "Epoch 68/100\n",
      "295/295 [==============================] - 0s 950us/step - loss: 0.0040 - val_loss: 4.1637e-07\n",
      "Epoch 69/100\n",
      "295/295 [==============================] - 0s 977us/step - loss: 0.0016 - val_loss: 4.0786e-07\n",
      "Epoch 70/100\n",
      "295/295 [==============================] - 0s 960us/step - loss: 0.0037 - val_loss: 4.0156e-07\n",
      "Epoch 71/100\n",
      "295/295 [==============================] - 0s 934us/step - loss: 0.0012 - val_loss: 3.9416e-07\n",
      "Epoch 72/100\n",
      "295/295 [==============================] - 0s 973us/step - loss: 2.8408e-04 - val_loss: 3.8755e-07\n",
      "Epoch 73/100\n",
      "295/295 [==============================] - 0s 938us/step - loss: 0.0029 - val_loss: 3.8298e-07\n",
      "Epoch 74/100\n",
      "295/295 [==============================] - 0s 961us/step - loss: 5.7396e-04 - val_loss: 3.7574e-07\n",
      "Epoch 75/100\n",
      "295/295 [==============================] - 0s 972us/step - loss: 0.0035 - val_loss: 3.7117e-07\n",
      "Epoch 76/100\n",
      "295/295 [==============================] - 0s 964us/step - loss: 0.0040 - val_loss: 3.6534e-07\n",
      "Epoch 77/100\n",
      "295/295 [==============================] - 0s 983us/step - loss: 0.0012 - val_loss: 3.5936e-07\n",
      "Epoch 78/100\n",
      "295/295 [==============================] - 0s 955us/step - loss: 0.0013 - val_loss: 3.5385e-07\n",
      "Epoch 79/100\n",
      "295/295 [==============================] - 0s 970us/step - loss: 4.6420e-04 - val_loss: 3.4771e-07\n",
      "Epoch 80/100\n",
      "295/295 [==============================] - 0s 946us/step - loss: 0.0038 - val_loss: 3.4204e-07\n",
      "Epoch 81/100\n",
      "295/295 [==============================] - 0s 957us/step - loss: 0.0022 - val_loss: 3.3794e-07\n",
      "Epoch 82/100\n",
      "295/295 [==============================] - 0s 950us/step - loss: 0.0019 - val_loss: 3.3101e-07\n",
      "Epoch 83/100\n",
      "295/295 [==============================] - 0s 964us/step - loss: 0.0021 - val_loss: 3.2660e-07\n",
      "Epoch 84/100\n",
      "295/295 [==============================] - 0s 952us/step - loss: 0.0057 - val_loss: 3.2125e-07\n",
      "Epoch 85/100\n",
      "295/295 [==============================] - 0s 963us/step - loss: 0.0040 - val_loss: 3.1668e-07\n",
      "Epoch 86/100\n",
      "295/295 [==============================] - 0s 953us/step - loss: 9.5385e-04 - val_loss: 3.0991e-07\n",
      "Epoch 87/100\n",
      "295/295 [==============================] - 0s 995us/step - loss: 5.7930e-04 - val_loss: 3.0424e-07\n",
      "Epoch 88/100\n",
      "295/295 [==============================] - 0s 957us/step - loss: 0.0036 - val_loss: 3.0015e-07\n",
      "Epoch 89/100\n",
      "295/295 [==============================] - 0s 971us/step - loss: 6.7726e-04 - val_loss: 2.9621e-07\n",
      "Epoch 90/100\n",
      "295/295 [==============================] - 0s 956us/step - loss: 7.5843e-04 - val_loss: 2.9165e-07\n",
      "Epoch 91/100\n",
      "295/295 [==============================] - 0s 1ms/step - loss: 0.0011 - val_loss: 2.8834e-07\n",
      "Epoch 92/100\n",
      "295/295 [==============================] - 0s 983us/step - loss: 9.1791e-04 - val_loss: 2.8692e-07\n",
      "Epoch 93/100\n",
      "295/295 [==============================] - 0s 945us/step - loss: 3.2623e-04 - val_loss: 2.8298e-07\n",
      "Epoch 94/100\n",
      "295/295 [==============================] - 0s 955us/step - loss: 3.8952e-04 - val_loss: 2.7983e-07\n",
      "Epoch 95/100\n",
      "295/295 [==============================] - 0s 951us/step - loss: 0.0011 - val_loss: 2.7495e-07\n",
      "Epoch 96/100\n",
      "295/295 [==============================] - 0s 972us/step - loss: 6.3209e-04 - val_loss: 2.6976e-07\n",
      "Epoch 97/100\n",
      "295/295 [==============================] - 0s 1ms/step - loss: 2.2540e-04 - val_loss: 2.6314e-07\n",
      "Epoch 98/100\n",
      "295/295 [==============================] - 0s 985us/step - loss: 0.0021 - val_loss: 2.6094e-07\n",
      "Epoch 99/100\n",
      "295/295 [==============================] - 0s 987us/step - loss: 0.0020 - val_loss: 2.5669e-07\n",
      "Epoch 100/100\n",
      "295/295 [==============================] - 0s 957us/step - loss: 0.0047 - val_loss: 2.5306e-07\n"
     ]
    }
   ],
   "source": [
    "history = model.fit(X_train, y_train, batch_size = 32, epochs=100, shuffle=True,verbose=1,\n",
    "                    validation_data=(X_test, y_test))"
   ]
  },
  {
   "cell_type": "code",
   "execution_count": 46,
   "id": "ec5df3ec",
   "metadata": {},
   "outputs": [
    {
     "name": "stdout",
     "output_type": "stream",
     "text": [
      "dict_keys(['loss', 'val_loss'])\n"
     ]
    }
   ],
   "source": [
    "print(history.history.keys())"
   ]
  },
  {
   "cell_type": "code",
   "execution_count": 47,
   "id": "17003707",
   "metadata": {},
   "outputs": [
    {
     "data": {
      "text/plain": [
       "[<matplotlib.lines.Line2D at 0x15fe49160>]"
      ]
     },
     "execution_count": 47,
     "metadata": {},
     "output_type": "execute_result"
    },
    {
     "data": {
      "image/png": "[encoded data removed]",
      "text/plain": [
       "<Figure size 432x288 with 1 Axes>"
      ]
     },
     "metadata": {
      "needs_background": "light"
     },
     "output_type": "display_data"
    }
   ],
   "source": [
    "plt.plot(history.history['val_loss'])"
   ]
  },
  {
   "cell_type": "code",
   "execution_count": null,
   "id": "57d4b0eb",
   "metadata": {},
   "outputs": [],
   "source": []
  }
 ],
 "metadata": {
  "kernelspec": {
   "display_name": "Python 3 (ipykernel)",
   "language": "python",
   "name": "python3"
  },
  "language_info": {
   "codemirror_mode": {
    "name": "ipython",
    "version": 3
   },
   "file_extension": ".py",
   "mimetype": "text/x-python",
   "name": "python",
   "nbconvert_exporter": "python",
   "pygments_lexer": "ipython3",
   "version": "3.8.10"
  }
 },
 "nbformat": 4,
 "nbformat_minor": 5
}
