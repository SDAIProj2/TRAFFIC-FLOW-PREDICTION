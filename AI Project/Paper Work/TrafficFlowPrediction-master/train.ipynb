{
 "cells": [
  {
   "cell_type": "code",
   "execution_count": 6,
   "id": "c0570738",
   "metadata": {},
   "outputs": [
    {
     "name": "stderr",
     "output_type": "stream",
     "text": [
      "usage: ipykernel_launcher.py [-h] [--model MODEL]\n",
      "ipykernel_launcher.py: error: unrecognized arguments: -f /Users/adityahanumanthu/Library/Jupyter/runtime/kernel-1407a8b3-f966-4acf-97b3-c64d879489a6.json\n"
     ]
    },
    {
     "ename": "SystemExit",
     "evalue": "2",
     "output_type": "error",
     "traceback": [
      "An exception has occurred, use %tb to see the full traceback.\n",
      "\u001b[0;31mSystemExit\u001b[0m\u001b[0;31m:\u001b[0m 2\n"
     ]
    }
   ],
   "source": [
    "\n",
    "import sys\n",
    "import warnings\n",
    "import argparse\n",
    "import numpy as np\n",
    "import pandas as pd\n",
    "from data.data import process_data\n",
    "from model import model\n",
    "from tensorflow.keras.models import Model\n",
    "from tensorflow.keras.callbacks import EarlyStopping\n",
    "warnings.filterwarnings(\"ignore\")\n",
    "\n",
    "\n",
    "def train_model(model, X_train, y_train, name, config):\n",
    "\n",
    "\n",
    "    model.compile(loss=\"mse\", optimizer=\"rmsprop\", metrics=['mape'])\n",
    "    # early = EarlyStopping(monitor='val_loss', patience=30, verbose=0, mode='auto')\n",
    "    hist = model.fit(\n",
    "        X_train, y_train,\n",
    "        batch_size=config[\"batch\"],\n",
    "        epochs=config[\"epochs\"],\n",
    "        validation_split=0.05)\n",
    "\n",
    "    model.save('model/' + name + '.h5')\n",
    "    df = pd.DataFrame.from_dict(hist.history)\n",
    "    df.to_csv('model/' + name + ' loss.csv', encoding='utf-8', index=False)\n",
    "\n",
    "\n",
    "def train_seas(models, X_train, y_train, name, config):\n",
    "\n",
    "\n",
    "    temp = X_train\n",
    "\n",
    "    for i in range(len(models) - 1):\n",
    "        if i > 0:\n",
    "            p = models[i - 1]\n",
    "            hidden_layer_model = Model(input=p.input,\n",
    "                                       output=p.get_layer('hidden').output)\n",
    "            temp = hidden_layer_model.predict(temp)\n",
    "\n",
    "        m = models[i]\n",
    "        m.compile(loss=\"mse\", optimizer=\"rmsprop\", metrics=['mape'])\n",
    "\n",
    "        m.fit(temp, y_train, batch_size=config[\"batch\"],\n",
    "              epochs=config[\"epochs\"],\n",
    "              validation_split=0.05)\n",
    "\n",
    "        models[i] = m\n",
    "\n",
    "    saes = models[-1]\n",
    "    for i in range(len(models) - 1):\n",
    "        weights = models[i].get_layer('hidden').get_weights()\n",
    "        saes.get_layer('hidden%d' % (i + 1)).set_weights(weights)\n",
    "\n",
    "    train_model(saes, X_train, y_train, name, config)\n",
    "\n",
    "\n",
    "def main(argv):\n",
    "    parser = argparse.ArgumentParser()\n",
    "    parser.add_argument(\n",
    "        \"--model\",\n",
    "        default=\"lstm\",\n",
    "        help=\"Model to train.\")\n",
    "    args = parser.parse_args()\n",
    "\n",
    "    lag = 12\n",
    "    config = {\"batch\": 256, \"epochs\": 600}\n",
    "    file1 = 'data/train.csv'\n",
    "    file2 = 'data/test.csv'\n",
    "    X_train, y_train, _, _, _ = process_data(file1, file2, lag)\n",
    "\n",
    "    if args.model == 'gru':\n",
    "        X_train = np.reshape(X_train, (X_train.shape[0], X_train.shape[1], 1))\n",
    "        m = model.gru([12, 64, 64, 1])\n",
    "        train_model(m, X_train, y_train, args.model, config)\n",
    "\n",
    "\n",
    "\n",
    "if __name__ == '__main__':\n",
    "    main(sys.argv)"
   ]
  },
  {
   "cell_type": "code",
   "execution_count": null,
   "id": "b0f337cb",
   "metadata": {},
   "outputs": [],
   "source": []
  }
 ],
 "metadata": {
  "kernelspec": {
   "display_name": "Python 3 (ipykernel)",
   "language": "python",
   "name": "python3"
  },
  "language_info": {
   "codemirror_mode": {
    "name": "ipython",
    "version": 3
   },
   "file_extension": ".py",
   "mimetype": "text/x-python",
   "name": "python",
   "nbconvert_exporter": "python",
   "pygments_lexer": "ipython3",
   "version": "3.8.10"
  }
 },
 "nbformat": 4,
 "nbformat_minor": 5
}
